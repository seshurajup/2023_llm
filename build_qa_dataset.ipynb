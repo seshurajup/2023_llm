{
 "cells": [
  {
   "cell_type": "code",
   "execution_count": 57,
   "metadata": {},
   "outputs": [
    {
     "name": "stdout",
     "output_type": "stream",
     "text": [
      "Question: What was the prediction of classical physics regarding an ideal black body's energy emission?\n",
      "\n",
      "Correct Answer 1: Classical physics predicted an unbounded quantity of energy emission in the ultraviolet range for an ideal black body.\n",
      "Correct Answer 1 Score: 100\n",
      "\n",
      "Correct Answer 2: Classical physics predicted an unbounded energy emission as wavelength decreased into the ultraviolet range for an ideal black body.\n",
      "Correct Answer 2 Score: 100\n",
      "\n",
      "Wrong Answer 1: Classical physics predicted a finite quantity of energy emission in the infrared range for an ideal black body.\n",
      "Wrong Answer 1 Score: 20\n",
      "\n",
      "Wrong Answer 2: Classical physics predicted a bounded energy emission as wavelength increased into the infrared range for an ideal black body.\n",
      "Wrong Answer 2 Score: 20\n",
      "\n",
      "Wrong Answer 3: Classical physics predicted an unbounded quantity of energy emission in the visible range for an ideal black body.\n",
      "Wrong Answer 3 Score: 40\n",
      "\n",
      "Wrong Answer 4: Classical physics predicted an unbounded energy emission as wavelength decreased into the visible range for an ideal black body.\n",
      "Wrong Answer 4 Score: 40\n",
      "\n",
      "Wrong Answer 5: Classical physics predicted a finite quantity of energy emission in the ultraviolet range for an ideal black body.\n",
      "Wrong Answer 5 Score: 60\n",
      "\n",
      "Wrong Answer 6: Classical physics predicted a bounded energy emission as wavelength decreased into the ultraviolet range for an ideal black body.\n",
      "Wrong Answer 6 Score: 60\n",
      "\n",
      "Wrong Answer 7: Classical physics predicted an unbounded quantity of energy emission in the infrared range for an ideal black body.\n",
      "Wrong Answer 7 Score: 20\n",
      "\n",
      "Wrong Answer 8: Classical physics predicted a finite quantity of energy emission as wavelength increased into the infrared range for an ideal black body.\n",
      "Wrong Answer 8 Score: 20\n",
      "\n",
      "Wrong Answer 9: Classical physics predicted an unbounded energy emission in the visible range for an ideal black body.\n",
      "Wrong Answer 9 Score: 40\n",
      "\n",
      "Wrong Answer 1\n"
     ]
    }
   ],
   "source": [
    "import openai\n",
    "openai.api_key = \"EMPTY\" # Not support yet\n",
    "openai.api_base = \"http://localhost:8000/v1\"\n",
    "\n",
    "model = \"vicuna-33b-v1.3\"\n",
    "\n",
    "# create a completion\n",
    "#completion = openai.Completion.create(model=model, prompt=prompt, max_tokens=768)\n",
    "# print the completion\n",
    "#print(prompt + completion.choices[0].text)\n",
    "\n",
    "# create a chat completion\n",
    "completion = openai.ChatCompletion.create(\n",
    "  model=model,\n",
    "  temperature=0,\n",
    "  messages=[{\"role\": \"user\", \"content\": \"\"\"Step 1: From the given Wikipedia scientific text and construct a question related to the text that contains between 5 to 25 words.\n",
    "Step 2: Based on the question generated in Step 1 and the provided scientific text, formulate a correct answer that ranges between 10 to 30 words. Then, devise a similar alternative answer with the same word limit.\n",
    "Step 3: Generate additional wrong answers, each within the 10 to 30 words limit, that bear a close resemblance to the correct answer formulated in Step 2.\n",
    "Step 4: Ensure that the wrong answers from Step 3 exhibit various degrees of accuracy and bear a high similarity (on a scale from 1 to 100) to the question.\n",
    "Step 5: Verify that the correct answer and all the wrong answers contain a similar number of words.\n",
    "Step 6: Evaluate the similarity between the question and the correct answer, and provide a similarity score on a scale from 1 to 100.\n",
    "Step 7: Evaluate the similarity between the question and each wrong answer, and assign a similarity score on a scale from 1 to 100.\n",
    "Step 8: Format the final output to include the question, correct answer(s) with score(s), and wrong answers with their corresponding similarity scores. The format should be as follows:\n",
    "\n",
    "Question: ...\n",
    "Correct Answer 1: ...\n",
    "Correct Answer 1 Score: ...\n",
    "Correct Answer 2: ...\n",
    "Correct Answer 2 Score: ...\n",
    "Wrong Answer 1: ...\n",
    "Wrong Answer 1 Score: ...\n",
    "Wrong Answer 2: ...\n",
    "Wrong Answer 2 Score: ...\n",
    "Wrong Answer 3: ...\n",
    "Wrong Answer 3 Score: ...\n",
    "Wrong Answer 4: ...\n",
    "Wrong Answer 4 Score: ...\n",
    "Wrong Answer 5: ...\n",
    "Wrong Answer 5 Score: ...\n",
    "Wrong Answer 6: ...\n",
    "Wrong Answer 6 Score: ...\n",
    "Wrong Answer 7: ...\n",
    "Wrong Answer 7 Score: ...\n",
    "Wrong Answer 8: ...\n",
    "Wrong Answer 8 Score: ...\n",
    "Wrong Answer 9: ...\n",
    "Wrong Answer 9 Score: ...\n",
    "\n",
    "Sample Wikipedia Scientific Text:\n",
    "This is related to ultraviolet catastrophe topic. The ultraviolet catastrophe, also called the Rayleigh–Jeans catastrophe, was the prediction of late 19th century/early 20th century classical physics that an ideal black body at thermal equilibrium would emit an unbounded quantity of energy as wavelength decreased into the ultraviolet range.[1]: 6–7 The term 'ultraviolet catastrophe' was first used in 1911 by Paul Ehrenfest,[2] but the concept originated with the 1900 statistical derivation of the Rayleigh–Jeans law.\"\"\"},\n",
    "{\"role\":\"user\", \"content\": \"Step 8 Output:\"}            \n",
    " ]\n",
    ")\n",
    "# print the completion\n",
    "print(completion.choices[0].message.content)"
   ]
  },
  {
   "cell_type": "code",
   "execution_count": 71,
   "metadata": {},
   "outputs": [],
   "source": [
    "from joblib import Parallel, delayed\n",
    "\n",
    "def generate_q(details):\n",
    "    try: \n",
    "        wiki_text = details['text']\n",
    "        category = details['section']\n",
    "        pageid = details['pageid']\n",
    "        temperature = details['temperature']\n",
    "        openai.api_key = \"EMPTY\" # Not support yet\n",
    "        openai.api_base = \"http://localhost:8000/v1\"\n",
    "\n",
    "        model = \"vicuna-33b-v1.3\"\n",
    "\n",
    "        completion = openai.ChatCompletion.create(\n",
    "        model=model,\n",
    "        temperature=temperature,\n",
    "        messages=[{\"role\": \"user\", \"content\": \"\"\"Step 1: From the given Wikipedia scientific text and construct a question related to the text that contains between 5 to 25 words.\n",
    "        Step 2: Based on the question generated in Step 1 and the provided scientific text, formulate a correct answer that ranges between 10 to 30 words. Then, devise a similar alternative answer with the same word limit.\n",
    "        Step 3: Generate additional wrong answers, each within the 10 to 30 words limit, that bear a close resemblance to the correct answer formulated in Step 2.\n",
    "        Step 4: Ensure that the wrong answers from Step 3 exhibit various degrees of accuracy and bear a high similarity (on a scale from 1 to 100) to the question.\n",
    "        Step 5: Verify that the correct answer and all the wrong answers contain a similar number of words.\n",
    "        Step 6: Evaluate the similarity between the question and the correct answer, and provide a similarity score on a scale from 1 to 100.\n",
    "        Step 7: Evaluate the similarity between the question and each wrong answer, and assign a similarity score on a scale from 1 to 100.\n",
    "        Step 8: Format the final output to include the question, correct answer(s) with score(s), and wrong answers with their corresponding similarity scores. The format should be as follows:\n",
    "\n",
    "        Question: ...\n",
    "        Correct Answer 1: ...\n",
    "        Correct Answer 1 Score: ...\n",
    "        Correct Answer 2: ...\n",
    "        Correct Answer 2 Score: ...\n",
    "        Wrong Answer 1: ...\n",
    "        Wrong Answer 1 Score: ...\n",
    "        Wrong Answer 2: ...\n",
    "        Wrong Answer 2 Score: ...\n",
    "        Wrong Answer 3: ...\n",
    "        Wrong Answer 3 Score: ...\n",
    "        Wrong Answer 4: ...\n",
    "        Wrong Answer 4 Score: ...\n",
    "        Wrong Answer 5: ...\n",
    "        Wrong Answer 5 Score: ...\n",
    "        Wrong Answer 6: ...\n",
    "        Wrong Answer 6 Score: ...\n",
    "        Wrong Answer 7: ...\n",
    "        Wrong Answer 7 Score: ...\n",
    "        Wrong Answer 8: ...\n",
    "        Wrong Answer 8 Score: ...\n",
    "        Wrong Answer 9: ...\n",
    "        Wrong Answer 9 Score: ...\n",
    "\n",
    "        Sample Wikipedia Scientific Text:\n",
    "        \"\"\"+wiki_text.strip()},\n",
    "        {\"role\":\"user\", \"content\": \"Step 8 Output:\"}            \n",
    "        ]\n",
    "        )\n",
    "        output = completion.choices[0].message.content\n",
    "        fold = f\"./wiki/qa/{section}\"\n",
    "        os.makedirs(f\"{fold}\", exist_ok=True)\n",
    "        with open(f\"{fold}/{pageid}.txt\", \"w\") as f:\n",
    "            f.write(output)\n",
    "    except Exception as e:\n",
    "        print(e)\n",
    "        pass\n",
    "    return None\n",
    "\n",
    "#numbers = range(4)\n",
    "#squared_numbers = Parallel(n_jobs=-4)(delayed(square_number)(i) for i in numbers)\n",
    "#print(squared_numbers)\n"
   ]
  },
  {
   "cell_type": "code",
   "execution_count": 73,
   "metadata": {},
   "outputs": [
    {
     "name": "stdout",
     "output_type": "stream",
     "text": [
      "\n",
      " Total /datadrive1/wiki/articles/S 4762\n"
     ]
    },
    {
     "name": "stderr",
     "output_type": "stream",
     "text": [
      "100%|██████████| 4762/4762 [00:00<00:00, 6057.80it/s]"
     ]
    },
    {
     "name": "stdout",
     "output_type": "stream",
     "text": [
      "\n",
      " Fine Category:Formal_sciences ---> 0\n"
     ]
    },
    {
     "name": "stderr",
     "output_type": "stream",
     "text": [
      "\n"
     ]
    },
    {
     "data": {
      "text/plain": [
       "4761"
      ]
     },
     "execution_count": 73,
     "metadata": {},
     "output_type": "execute_result"
    }
   ],
   "source": [
    "from glob import glob\n",
    "from tqdm import tqdm\n",
    "import json\n",
    "all_sections = glob(\"/datadrive1/wiki/articles/*\")\n",
    "\n",
    "todo = []\n",
    "for section in all_sections:\n",
    "    count = 0\n",
    "    all_articles = glob(f\"{section}/*.json\")\n",
    "    print(\"\\n Total\",section, len(all_articles))\n",
    "    for article_path in tqdm(all_articles, total=len(all_articles)):\n",
    "        #print(article_path)\n",
    "        with open(article_path,'r') as f:\n",
    "            content = f.read()\n",
    "            try: \n",
    "                content = json.loads(content)\n",
    "            except:\n",
    "                continue\n",
    "            pageid = content['pageid']\n",
    "            section = content['category']\n",
    "            paragraphs = content['text'].split(\"\\n\\n\")\n",
    "            blocks = []\n",
    "            maximum_words = 1024\n",
    "            current_text = \"\"\n",
    "            for paragraph in paragraphs:\n",
    "                if len(current_text.split(\" \")) < maximum_words:\n",
    "                    current_text = current_text + \"\\n\\n\" + paragraph\n",
    "                else:\n",
    "                    break\n",
    "            current_text = \" \".join(current_text.split()[0:1024])\n",
    "            #print(\" Total \", len(current_text.split(\" \")))\n",
    "            try:\n",
    "                json.loads(content)\n",
    "                count += 1\n",
    "            except:\n",
    "                pass\n",
    "        todo.append({\n",
    "            \"pageid\": pageid,\n",
    "            \"section\": section,\n",
    "            \"text\": current_text,\n",
    "            \"temperature\": 0\n",
    "        })\n",
    "    print(\"\\n Fine\", section, \"--->\", count)\n",
    "        #data = json.load(open(article_path,'r'))\n",
    "        #print(article_path, data)\n",
    "    break\n",
    "    #print(section)\n",
    "len(todo)"
   ]
  },
  {
   "cell_type": "code",
   "execution_count": 74,
   "metadata": {},
   "outputs": [
    {
     "name": "stdout",
     "output_type": "stream",
     "text": [
      "name 'os' is not defined\n"
     ]
    }
   ],
   "source": [
    "generate_q(todo[0])"
   ]
  },
  {
   "cell_type": "code",
   "execution_count": null,
   "metadata": {},
   "outputs": [],
   "source": []
  }
 ],
 "metadata": {
  "kernelspec": {
   "display_name": "azureml_py38",
   "language": "python",
   "name": "python3"
  },
  "language_info": {
   "codemirror_mode": {
    "name": "ipython",
    "version": 3
   },
   "file_extension": ".py",
   "mimetype": "text/x-python",
   "name": "python",
   "nbconvert_exporter": "python",
   "pygments_lexer": "ipython3",
   "version": "3.8.16"
  },
  "orig_nbformat": 4
 },
 "nbformat": 4,
 "nbformat_minor": 2
}
