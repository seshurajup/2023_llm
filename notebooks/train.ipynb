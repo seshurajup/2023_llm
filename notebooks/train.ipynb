{
 "cells": [
  {
   "cell_type": "code",
   "execution_count": 1,
   "id": "cdaee927-5ff7-4730-a149-373fab4bbf7a",
   "metadata": {
    "execution": {
     "iopub.execute_input": "2023-07-15T13:22:11.509328Z",
     "iopub.status.busy": "2023-07-15T13:22:11.508400Z",
     "iopub.status.idle": "2023-07-15T13:23:26.582375Z",
     "shell.execute_reply": "2023-07-15T13:23:26.581700Z",
     "shell.execute_reply.started": "2023-07-15T13:22:11.509255Z"
    },
    "tags": []
   },
   "outputs": [
    {
     "name": "stdout",
     "output_type": "stream",
     "text": [
      "\u001b[31mERROR: pip's dependency resolver does not currently take into account all the packages that are installed. This behaviour is the source of the following dependency conflicts.\n",
      "autotrain-advanced 0.5.2 requires huggingface-hub==0.13.2, but you have huggingface-hub 0.16.4 which is incompatible.\u001b[0m\u001b[31m\n",
      "\u001b[0m"
     ]
    }
   ],
   "source": [
    "!pip install -q -U git+https://github.com/lvwerra/trl.git\n",
    "!pip install -q -U bitsandbytes\n",
    "!pip install -q -U git+https://github.com/huggingface/transformers.git\n",
    "!pip install -q -U git+https://github.com/huggingface/peft.git\n",
    "!pip install -q -U git+https://github.com/huggingface/accelerate.git\n",
    "!pip install -q langchain\n",
    "!pip install -q einops\n",
    "!pip install -q -U wandb"
   ]
  },
  {
   "cell_type": "code",
   "execution_count": 3,
   "id": "2d7cf801-6b67-453d-93b1-12fd3a9b2579",
   "metadata": {
    "execution": {
     "iopub.execute_input": "2023-07-15T13:23:38.782463Z",
     "iopub.status.busy": "2023-07-15T13:23:38.782276Z",
     "iopub.status.idle": "2023-07-15T13:23:38.784706Z",
     "shell.execute_reply": "2023-07-15T13:23:38.784422Z",
     "shell.execute_reply.started": "2023-07-15T13:23:38.782454Z"
    },
    "tags": []
   },
   "outputs": [],
   "source": [
    "import os\n",
    "\n",
    "import numpy as np\n",
    "import pandas as pd\n",
    "import matplotlib.pyplot as plt\n",
    "\n",
    "from datasets import load_dataset\n",
    "\n",
    "import torch\n",
    "\n",
    "import transformers\n",
    "from transformers import AutoModelForCausalLM, BitsAndBytesConfig, AutoTokenizer\n",
    "from transformers import TrainingArguments\n",
    "\n",
    "from peft import LoraConfig\n",
    "\n",
    "from trl import SFTTrainer, DataCollatorForCompletionOnlyLM\n",
    "from langchain.prompts import PromptTemplate\n",
    "\n",
    "from IPython.display import Markdown, display"
   ]
  },
  {
   "cell_type": "code",
   "execution_count": 4,
   "id": "decdd427-0a62-4980-a4da-bd89d6efe8bc",
   "metadata": {
    "execution": {
     "iopub.execute_input": "2023-07-15T13:24:19.996206Z",
     "iopub.status.busy": "2023-07-15T13:24:19.995714Z",
     "iopub.status.idle": "2023-07-15T13:24:21.415478Z",
     "shell.execute_reply": "2023-07-15T13:24:21.414519Z",
     "shell.execute_reply.started": "2023-07-15T13:24:19.996180Z"
    },
    "tags": []
   },
   "outputs": [
    {
     "name": "stdout",
     "output_type": "stream",
     "text": [
      "Downloading and preparing dataset csv/default to /Users/seshu/.cache/huggingface/datasets/csv/default-dbedbb0a6f169693/0.0.0/6b34fb8fcf56f7c8ba51dc895bfa2bfbe43546f190a60fcf74bb5e8afdcc2317...\n"
     ]
    },
    {
     "data": {
      "application/vnd.jupyter.widget-view+json": {
       "model_id": "cb2d3abaeb3645de87ebcbd3285016cb",
       "version_major": 2,
       "version_minor": 0
      },
      "text/plain": [
       "Downloading data files:   0%|          | 0/1 [00:00<?, ?it/s]"
      ]
     },
     "metadata": {},
     "output_type": "display_data"
    },
    {
     "data": {
      "application/vnd.jupyter.widget-view+json": {
       "model_id": "ecb36e6cb0ac4ce2982955b070a32823",
       "version_major": 2,
       "version_minor": 0
      },
      "text/plain": [
       "Extracting data files:   0%|          | 0/1 [00:00<?, ?it/s]"
      ]
     },
     "metadata": {},
     "output_type": "display_data"
    },
    {
     "data": {
      "application/vnd.jupyter.widget-view+json": {
       "model_id": "",
       "version_major": 2,
       "version_minor": 0
      },
      "text/plain": [
       "Generating train split: 0 examples [00:00, ? examples/s]"
      ]
     },
     "metadata": {},
     "output_type": "display_data"
    },
    {
     "name": "stdout",
     "output_type": "stream",
     "text": [
      "Dataset csv downloaded and prepared to /Users/seshu/.cache/huggingface/datasets/csv/default-dbedbb0a6f169693/0.0.0/6b34fb8fcf56f7c8ba51dc895bfa2bfbe43546f190a60fcf74bb5e8afdcc2317. Subsequent calls will reuse this data.\n"
     ]
    },
    {
     "name": "stderr",
     "output_type": "stream",
     "text": [
      "/Users/seshu/miniconda3/lib/python3.10/site-packages/datasets/download/streaming_download_manager.py:776: FutureWarning: the 'mangle_dupe_cols' keyword is deprecated and will be removed in a future version. Please take steps to stop the use of 'mangle_dupe_cols'\n",
      "  return pd.read_csv(xopen(filepath_or_buffer, \"rb\", use_auth_token=use_auth_token), **kwargs)\n"
     ]
    },
    {
     "data": {
      "application/vnd.jupyter.widget-view+json": {
       "model_id": "3c04d7e9f16043cba50c6c8e4cef66cd",
       "version_major": 2,
       "version_minor": 0
      },
      "text/plain": [
       "  0%|          | 0/1 [00:00<?, ?it/s]"
      ]
     },
     "metadata": {},
     "output_type": "display_data"
    },
    {
     "data": {
      "text/plain": [
       "DatasetDict({\n",
       "    train: Dataset({\n",
       "        features: ['id', 'prompt', 'A', 'B', 'C', 'D', 'E', 'answer'],\n",
       "        num_rows: 200\n",
       "    })\n",
       "})"
      ]
     },
     "execution_count": 4,
     "metadata": {},
     "output_type": "execute_result"
    }
   ],
   "source": [
    "data = load_dataset(\"csv\", data_files=\"../input/kaggle-llm-science-exam/train.csv\")\n",
    "data"
   ]
  },
  {
   "cell_type": "code",
   "execution_count": 5,
   "id": "114445df-0dd8-4589-a60d-720e95c96170",
   "metadata": {
    "execution": {
     "iopub.execute_input": "2023-07-15T13:24:47.875772Z",
     "iopub.status.busy": "2023-07-15T13:24:47.874911Z",
     "iopub.status.idle": "2023-07-15T13:24:47.884218Z",
     "shell.execute_reply": "2023-07-15T13:24:47.883424Z",
     "shell.execute_reply.started": "2023-07-15T13:24:47.875707Z"
    },
    "tags": []
   },
   "outputs": [],
   "source": [
    "def plot_sequence_lengths(data, split='train', max_length=2048):\n",
    "    sequence_lengths = []\n",
    "    keep_indices = []\n",
    "\n",
    "    # Loop over the dataset and get the lengths of text sequences\n",
    "    for i, example in enumerate(data[split]):\n",
    "        sequence_lengths.append(len(example['text']))\n",
    "        if sequence_lengths[i] < max_length:\n",
    "            keep_indices.append(i)\n",
    "\n",
    "    # Plot the histogram\n",
    "    plt.hist(sequence_lengths, bins=30)\n",
    "    plt.xlabel('Sequence Length')\n",
    "    plt.ylabel('Count')\n",
    "    plt.title('Distribution of Text Sequence Lengths')\n",
    "    plt.show()\n",
    "\n",
    "    return keep_indices"
   ]
  },
  {
   "cell_type": "code",
   "execution_count": 7,
   "id": "3adaf2c0-cdd1-4aa5-8955-0630596e1bfb",
   "metadata": {
    "execution": {
     "iopub.execute_input": "2023-07-15T13:25:29.030977Z",
     "iopub.status.busy": "2023-07-15T13:25:29.030213Z",
     "iopub.status.idle": "2023-07-15T13:25:29.037437Z",
     "shell.execute_reply": "2023-07-15T13:25:29.036105Z",
     "shell.execute_reply.started": "2023-07-15T13:25:29.030941Z"
    },
    "tags": []
   },
   "outputs": [],
   "source": [
    "template = \"\"\"Answer the following multiple choice question by giving the most appropriate response. Answer should be one among [A, B, C, D, E]\n",
    "\n",
    "Question: {prompt}\\n\n",
    "A) {a}\\n\n",
    "B) {b}\\n\n",
    "C) {c}\\n\n",
    "D) {d}\\n\n",
    "E) {e}\\n\n",
    "\n",
    "Answer: {answer}\"\"\"\n",
    "\n",
    "prompt = PromptTemplate(template=template, input_variables=['prompt', 'a', 'b', 'c', 'd', 'e', 'answer'])"
   ]
  },
  {
   "cell_type": "code",
   "execution_count": 8,
   "id": "1e04a638-5c4c-405b-9042-3fcfe38f480f",
   "metadata": {
    "execution": {
     "iopub.execute_input": "2023-07-15T13:25:38.155829Z",
     "iopub.status.busy": "2023-07-15T13:25:38.155014Z",
     "iopub.status.idle": "2023-07-15T13:25:38.166235Z",
     "shell.execute_reply": "2023-07-15T13:25:38.165378Z",
     "shell.execute_reply.started": "2023-07-15T13:25:38.155775Z"
    },
    "tags": []
   },
   "outputs": [
    {
     "data": {
      "text/markdown": [
       "Answer the following multiple choice question by giving the most appropriate response. Answer should be one among [A, B, C, D, E]\n",
       "\n",
       "Question: Which of the following statements accurately describes the impact of Modified Newtonian Dynamics (MOND) on the observed \"missing baryonic mass\" discrepancy in galaxy clusters?\n",
       "\n",
       "A) MOND is a theory that reduces the observed missing baryonic mass in galaxy clusters by postulating the existence of a new form of matter called \"fuzzy dark matter.\"\n",
       "\n",
       "B) MOND is a theory that increases the discrepancy between the observed missing baryonic mass in galaxy clusters and the measured velocity dispersions from a factor of around 10 to a factor of about 20.\n",
       "\n",
       "C) MOND is a theory that explains the missing baryonic mass in galaxy clusters that was previously considered dark matter by demonstrating that the mass is in the form of neutrinos and axions.\n",
       "\n",
       "D) MOND is a theory that reduces the discrepancy between the observed missing baryonic mass in galaxy clusters and the measured velocity dispersions from a factor of around 10 to a factor of about 2.\n",
       "\n",
       "E) MOND is a theory that eliminates the observed missing baryonic mass in galaxy clusters by imposing a new mathematical formulation of gravity that does not require the existence of dark matter.\n",
       "\n",
       "\n",
       "Answer: D"
      ],
      "text/plain": [
       "<IPython.core.display.Markdown object>"
      ]
     },
     "metadata": {},
     "output_type": "display_data"
    }
   ],
   "source": [
    "sample = data['train'][0]\n",
    "display(Markdown(prompt.format(prompt=sample['prompt'], \n",
    "                               a=sample['A'], \n",
    "                               b=sample['B'], \n",
    "                               c=sample['C'], \n",
    "                               d=sample['D'], \n",
    "                               e=sample['E'], \n",
    "                               answer=sample['answer'])))"
   ]
  },
  {
   "cell_type": "code",
   "execution_count": 9,
   "id": "2a648d9f-3c95-4ebc-a7fa-390f7b97e862",
   "metadata": {
    "execution": {
     "iopub.execute_input": "2023-07-15T13:25:48.010031Z",
     "iopub.status.busy": "2023-07-15T13:25:48.009289Z",
     "iopub.status.idle": "2023-07-15T13:25:48.016874Z",
     "shell.execute_reply": "2023-07-15T13:25:48.015914Z",
     "shell.execute_reply.started": "2023-07-15T13:25:48.009972Z"
    },
    "tags": []
   },
   "outputs": [],
   "source": [
    "def format_text(example):\n",
    "    text = prompt.format(prompt=example['prompt'], \n",
    "                         a=example['A'], \n",
    "                         b=example['B'], \n",
    "                         c=example['C'], \n",
    "                         d=example['D'], \n",
    "                         e=example['E'], \n",
    "                         answer=example['answer'])\n",
    "    return {\"text\": text}\n"
   ]
  },
  {
   "cell_type": "code",
   "execution_count": 10,
   "id": "3638609f-e9e5-4f93-9c95-dfe234afbf63",
   "metadata": {
    "execution": {
     "iopub.execute_input": "2023-07-15T13:25:54.363919Z",
     "iopub.status.busy": "2023-07-15T13:25:54.363092Z",
     "iopub.status.idle": "2023-07-15T13:25:54.406815Z",
     "shell.execute_reply": "2023-07-15T13:25:54.406110Z",
     "shell.execute_reply.started": "2023-07-15T13:25:54.363855Z"
    },
    "tags": []
   },
   "outputs": [
    {
     "data": {
      "application/vnd.jupyter.widget-view+json": {
       "model_id": "",
       "version_major": 2,
       "version_minor": 0
      },
      "text/plain": [
       "Map:   0%|          | 0/200 [00:00<?, ? examples/s]"
      ]
     },
     "metadata": {},
     "output_type": "display_data"
    },
    {
     "data": {
      "text/plain": [
       "DatasetDict({\n",
       "    train: Dataset({\n",
       "        features: ['id', 'prompt', 'A', 'B', 'C', 'D', 'E', 'answer', 'text'],\n",
       "        num_rows: 200\n",
       "    })\n",
       "})"
      ]
     },
     "execution_count": 10,
     "metadata": {},
     "output_type": "execute_result"
    }
   ],
   "source": [
    "data = data.map(format_text)\n",
    "data"
   ]
  },
  {
   "cell_type": "code",
   "execution_count": 11,
   "id": "dce78517-d8df-4cb9-aca1-6ca9dc7fe6c5",
   "metadata": {
    "execution": {
     "iopub.execute_input": "2023-07-15T13:26:01.905421Z",
     "iopub.status.busy": "2023-07-15T13:26:01.904837Z",
     "iopub.status.idle": "2023-07-15T13:26:01.911428Z",
     "shell.execute_reply": "2023-07-15T13:26:01.910573Z",
     "shell.execute_reply.started": "2023-07-15T13:26:01.905368Z"
    },
    "tags": []
   },
   "outputs": [],
   "source": [
    "def plot_sequence_lengths(data, split='train', max_length=2048):\n",
    "    sequence_lengths = []\n",
    "    keep_indices = []\n",
    "\n",
    "    # Loop over the dataset and get the lengths of text sequences\n",
    "    for i, example in enumerate(data[split]):\n",
    "        sequence_lengths.append(len(example['text']))\n",
    "        if sequence_lengths[i] < max_length:\n",
    "            keep_indices.append(i)\n",
    "\n",
    "    # Plot the histogram\n",
    "    plt.hist(sequence_lengths, bins=30)\n",
    "    plt.xlabel('Sequence Length')\n",
    "    plt.ylabel('Count')\n",
    "    plt.title('Distribution of Text Sequence Lengths')\n",
    "    plt.show()\n",
    "\n",
    "    return keep_indices"
   ]
  },
  {
   "cell_type": "code",
   "execution_count": 12,
   "id": "cbf11b4d-9644-4080-980d-873d79407dfe",
   "metadata": {
    "execution": {
     "iopub.execute_input": "2023-07-15T13:26:07.329507Z",
     "iopub.status.busy": "2023-07-15T13:26:07.329052Z",
     "iopub.status.idle": "2023-07-15T13:26:07.477527Z",
     "shell.execute_reply": "2023-07-15T13:26:07.477163Z",
     "shell.execute_reply.started": "2023-07-15T13:26:07.329476Z"
    },
    "tags": []
   },
   "outputs": [
    {
     "data": {
      "image/png": "[encoded data removed]",
      "text/plain": [
       "<Figure size 640x480 with 1 Axes>"
      ]
     },
     "metadata": {},
     "output_type": "display_data"
    }
   ],
   "source": [
    "keep_indices_train = plot_sequence_lengths(data)"
   ]
  },
  {
   "cell_type": "code",
   "execution_count": 13,
   "id": "a4824ac8-b6fe-472f-8548-a68be32368be",
   "metadata": {
    "execution": {
     "iopub.execute_input": "2023-07-15T13:26:16.038114Z",
     "iopub.status.busy": "2023-07-15T13:26:16.037187Z",
     "iopub.status.idle": "2023-07-15T13:26:16.050264Z",
     "shell.execute_reply": "2023-07-15T13:26:16.049571Z",
     "shell.execute_reply.started": "2023-07-15T13:26:16.038052Z"
    },
    "tags": []
   },
   "outputs": [],
   "source": [
    "data['train'] = data['train'].select(keep_indices_train)"
   ]
  },
  {
   "cell_type": "code",
   "execution_count": 14,
   "id": "aa0a9161-638c-4cc5-87ec-c01e298cf93d",
   "metadata": {
    "execution": {
     "iopub.execute_input": "2023-07-15T13:26:24.016929Z",
     "iopub.status.busy": "2023-07-15T13:26:24.016115Z",
     "iopub.status.idle": "2023-07-15T13:26:24.023210Z",
     "shell.execute_reply": "2023-07-15T13:26:24.021793Z",
     "shell.execute_reply.started": "2023-07-15T13:26:24.016872Z"
    },
    "tags": []
   },
   "outputs": [],
   "source": [
    "model_id = \"tiiuae/falcon-7b\""
   ]
  },
  {
   "cell_type": "code",
   "execution_count": 15,
   "id": "4ddeb122-8aaf-414d-8e7a-922d460ebe82",
   "metadata": {
    "execution": {
     "iopub.execute_input": "2023-07-15T13:26:30.531504Z",
     "iopub.status.busy": "2023-07-15T13:26:30.530723Z",
     "iopub.status.idle": "2023-07-15T13:26:34.380917Z",
     "shell.execute_reply": "2023-07-15T13:26:34.380485Z",
     "shell.execute_reply.started": "2023-07-15T13:26:30.531448Z"
    },
    "tags": []
   },
   "outputs": [
    {
     "data": {
      "application/vnd.jupyter.widget-view+json": {
       "model_id": "9d57e39e019544629183f1f7618b9b4a",
       "version_major": 2,
       "version_minor": 0
      },
      "text/plain": [
       "Downloading (…)okenizer_config.json:   0%|          | 0.00/220 [00:00<?, ?B/s]"
      ]
     },
     "metadata": {},
     "output_type": "display_data"
    },
    {
     "data": {
      "application/vnd.jupyter.widget-view+json": {
       "model_id": "002c0dbf70b149c79a95002c668d513c",
       "version_major": 2,
       "version_minor": 0
      },
      "text/plain": [
       "Downloading (…)/main/tokenizer.json:   0%|          | 0.00/2.73M [00:00<?, ?B/s]"
      ]
     },
     "metadata": {},
     "output_type": "display_data"
    },
    {
     "data": {
      "application/vnd.jupyter.widget-view+json": {
       "model_id": "9e9400f93de24b29954738cbba4a2f92",
       "version_major": 2,
       "version_minor": 0
      },
      "text/plain": [
       "Downloading (…)cial_tokens_map.json:   0%|          | 0.00/281 [00:00<?, ?B/s]"
      ]
     },
     "metadata": {},
     "output_type": "display_data"
    }
   ],
   "source": [
    "tokenizer = AutoTokenizer.from_pretrained(model_id)\n",
    "tokenizer.pad_token = tokenizer.eos_token"
   ]
  },
  {
   "cell_type": "code",
   "execution_count": 16,
   "id": "0c2cd620-8424-4b07-8ae3-92c0a5929db4",
   "metadata": {
    "execution": {
     "iopub.execute_input": "2023-07-15T13:26:53.894029Z",
     "iopub.status.busy": "2023-07-15T13:26:53.893152Z",
     "iopub.status.idle": "2023-07-15T13:26:53.904157Z",
     "shell.execute_reply": "2023-07-15T13:26:53.903572Z",
     "shell.execute_reply.started": "2023-07-15T13:26:53.893970Z"
    },
    "tags": []
   },
   "outputs": [],
   "source": [
    "qlora_config = LoraConfig(\n",
    "    r=16,\n",
    "    lora_alpha=32,\n",
    "    lora_dropout=0.05,\n",
    "    bias=\"none\",\n",
    "    target_modules=[\"query_key_value\", \"dense\", \"dense_h_to_4h\", \"dense_4h_to_h\"],\n",
    "    task_type=\"CAUSAL_LM\"\n",
    ")\n",
    "\n",
    "bnb_config = BitsAndBytesConfig(\n",
    "    load_in_4bit=True,\n",
    "    bnb_4bit_use_double_quant=True,\n",
    "    bnb_4bit_quant_type=\"nf4\",\n",
    "    bnb_4bit_compute_dtype=torch.bfloat16\n",
    ")"
   ]
  },
  {
   "cell_type": "code",
   "execution_count": 17,
   "id": "89aae523-ac47-423f-ac46-3d37c3c8d943",
   "metadata": {
    "execution": {
     "iopub.execute_input": "2023-07-15T13:27:08.558715Z",
     "iopub.status.busy": "2023-07-15T13:27:08.557916Z",
     "iopub.status.idle": "2023-07-15T13:27:10.502017Z",
     "shell.execute_reply": "2023-07-15T13:27:10.501478Z",
     "shell.execute_reply.started": "2023-07-15T13:27:08.558655Z"
    },
    "tags": []
   },
   "outputs": [
    {
     "data": {
      "application/vnd.jupyter.widget-view+json": {
       "model_id": "2f77d5d848d6426b8a3dfb20e076c799",
       "version_major": 2,
       "version_minor": 0
      },
      "text/plain": [
       "Downloading (…)e5bf6ee5/config.json:   0%|          | 0.00/950 [00:00<?, ?B/s]"
      ]
     },
     "metadata": {},
     "output_type": "display_data"
    },
    {
     "data": {
      "application/vnd.jupyter.widget-view+json": {
       "model_id": "d6309985df414ce08e111977f46a45af",
       "version_major": 2,
       "version_minor": 0
      },
      "text/plain": [
       "Downloading (…)/configuration_RW.py:   0%|          | 0.00/2.61k [00:00<?, ?B/s]"
      ]
     },
     "metadata": {},
     "output_type": "display_data"
    },
    {
     "data": {
      "application/vnd.jupyter.widget-view+json": {
       "model_id": "4dcd8cee76ac44988bbf55ed63674dd1",
       "version_major": 2,
       "version_minor": 0
      },
      "text/plain": [
       "Downloading (…)6ee5/modelling_RW.py:   0%|          | 0.00/47.6k [00:00<?, ?B/s]"
      ]
     },
     "metadata": {},
     "output_type": "display_data"
    },
    {
     "ename": "RuntimeError",
     "evalue": "No GPU found. A GPU is needed for quantization.",
     "output_type": "error",
     "traceback": [
      "\u001b[0;31m---------------------------------------------------------------------------\u001b[0m",
      "\u001b[0;31mRuntimeError\u001b[0m                              Traceback (most recent call last)",
      "Cell \u001b[0;32mIn[17], line 1\u001b[0m\n\u001b[0;32m----> 1\u001b[0m base_model \u001b[38;5;241m=\u001b[39m \u001b[43mAutoModelForCausalLM\u001b[49m\u001b[38;5;241;43m.\u001b[39;49m\u001b[43mfrom_pretrained\u001b[49m\u001b[43m(\u001b[49m\n\u001b[1;32m      2\u001b[0m \u001b[43m    \u001b[49m\u001b[43mmodel_id\u001b[49m\u001b[43m,\u001b[49m\n\u001b[1;32m      3\u001b[0m \u001b[43m    \u001b[49m\u001b[43mquantization_config\u001b[49m\u001b[38;5;241;43m=\u001b[39;49m\u001b[43mbnb_config\u001b[49m\u001b[43m,\u001b[49m\n\u001b[1;32m      4\u001b[0m \u001b[43m    \u001b[49m\u001b[43mtrust_remote_code\u001b[49m\u001b[38;5;241;43m=\u001b[39;49m\u001b[38;5;28;43;01mTrue\u001b[39;49;00m\u001b[43m,\u001b[49m\n\u001b[1;32m      5\u001b[0m \u001b[43m    \u001b[49m\u001b[43mrevision\u001b[49m\u001b[38;5;241;43m=\u001b[39;49m\u001b[38;5;124;43m\"\u001b[39;49m\u001b[38;5;124;43m2f5c3cd4eace6be6c0f12981f377fb35e5bf6ee5\u001b[39;49m\u001b[38;5;124;43m\"\u001b[39;49m\u001b[43m \u001b[49m\u001b[38;5;66;43;03m# Using this version because running the new version gives error \u001b[39;49;00m\n\u001b[1;32m      6\u001b[0m \u001b[43m)\u001b[49m\n",
      "File \u001b[0;32m~/miniconda3/lib/python3.10/site-packages/transformers/models/auto/auto_factory.py:488\u001b[0m, in \u001b[0;36m_BaseAutoModelClass.from_pretrained\u001b[0;34m(cls, pretrained_model_name_or_path, *model_args, **kwargs)\u001b[0m\n\u001b[1;32m    486\u001b[0m     \u001b[38;5;28;01melse\u001b[39;00m:\n\u001b[1;32m    487\u001b[0m         \u001b[38;5;28mcls\u001b[39m\u001b[38;5;241m.\u001b[39mregister(config\u001b[38;5;241m.\u001b[39m\u001b[38;5;18m__class__\u001b[39m, model_class, exist_ok\u001b[38;5;241m=\u001b[39m\u001b[38;5;28;01mTrue\u001b[39;00m)\n\u001b[0;32m--> 488\u001b[0m     \u001b[38;5;28;01mreturn\u001b[39;00m \u001b[43mmodel_class\u001b[49m\u001b[38;5;241;43m.\u001b[39;49m\u001b[43mfrom_pretrained\u001b[49m\u001b[43m(\u001b[49m\n\u001b[1;32m    489\u001b[0m \u001b[43m        \u001b[49m\u001b[43mpretrained_model_name_or_path\u001b[49m\u001b[43m,\u001b[49m\u001b[43m \u001b[49m\u001b[38;5;241;43m*\u001b[39;49m\u001b[43mmodel_args\u001b[49m\u001b[43m,\u001b[49m\u001b[43m \u001b[49m\u001b[43mconfig\u001b[49m\u001b[38;5;241;43m=\u001b[39;49m\u001b[43mconfig\u001b[49m\u001b[43m,\u001b[49m\u001b[43m \u001b[49m\u001b[38;5;241;43m*\u001b[39;49m\u001b[38;5;241;43m*\u001b[39;49m\u001b[43mhub_kwargs\u001b[49m\u001b[43m,\u001b[49m\u001b[43m \u001b[49m\u001b[38;5;241;43m*\u001b[39;49m\u001b[38;5;241;43m*\u001b[39;49m\u001b[43mkwargs\u001b[49m\n\u001b[1;32m    490\u001b[0m \u001b[43m    \u001b[49m\u001b[43m)\u001b[49m\n\u001b[1;32m    491\u001b[0m \u001b[38;5;28;01melif\u001b[39;00m \u001b[38;5;28mtype\u001b[39m(config) \u001b[38;5;129;01min\u001b[39;00m \u001b[38;5;28mcls\u001b[39m\u001b[38;5;241m.\u001b[39m_model_mapping\u001b[38;5;241m.\u001b[39mkeys():\n\u001b[1;32m    492\u001b[0m     model_class \u001b[38;5;241m=\u001b[39m _get_model_class(config, \u001b[38;5;28mcls\u001b[39m\u001b[38;5;241m.\u001b[39m_model_mapping)\n",
      "File \u001b[0;32m~/miniconda3/lib/python3.10/site-packages/transformers/modeling_utils.py:2297\u001b[0m, in \u001b[0;36mPreTrainedModel.from_pretrained\u001b[0;34m(cls, pretrained_model_name_or_path, config, cache_dir, ignore_mismatched_sizes, force_download, local_files_only, token, revision, use_safetensors, *model_args, **kwargs)\u001b[0m\n\u001b[1;32m   2295\u001b[0m     device_map \u001b[38;5;241m=\u001b[39m {\u001b[38;5;124m\"\u001b[39m\u001b[38;5;124m\"\u001b[39m: torch\u001b[38;5;241m.\u001b[39mcuda\u001b[38;5;241m.\u001b[39mcurrent_device()}\n\u001b[1;32m   2296\u001b[0m \u001b[38;5;28;01melse\u001b[39;00m:\n\u001b[0;32m-> 2297\u001b[0m     \u001b[38;5;28;01mraise\u001b[39;00m \u001b[38;5;167;01mRuntimeError\u001b[39;00m(\u001b[38;5;124m\"\u001b[39m\u001b[38;5;124mNo GPU found. A GPU is needed for quantization.\u001b[39m\u001b[38;5;124m\"\u001b[39m)\n\u001b[1;32m   2298\u001b[0m logger\u001b[38;5;241m.\u001b[39minfo(\n\u001b[1;32m   2299\u001b[0m     \u001b[38;5;124m\"\u001b[39m\u001b[38;5;124mThe device_map was not initialized.\u001b[39m\u001b[38;5;124m\"\u001b[39m\n\u001b[1;32m   2300\u001b[0m     \u001b[38;5;124m\"\u001b[39m\u001b[38;5;124mSetting device_map to \u001b[39m\u001b[38;5;124m{\u001b[39m\u001b[38;5;124m'\u001b[39m\u001b[38;5;124m'\u001b[39m\u001b[38;5;124m:torch.cuda.current_device()}.\u001b[39m\u001b[38;5;124m\"\u001b[39m\n\u001b[1;32m   2301\u001b[0m     \u001b[38;5;124m\"\u001b[39m\u001b[38;5;124mIf you want to use the model for inference, please set device_map =\u001b[39m\u001b[38;5;124m'\u001b[39m\u001b[38;5;124mauto\u001b[39m\u001b[38;5;124m'\u001b[39m\u001b[38;5;124m \u001b[39m\u001b[38;5;124m\"\u001b[39m\n\u001b[1;32m   2302\u001b[0m )\n\u001b[1;32m   2303\u001b[0m \u001b[38;5;28;01mif\u001b[39;00m low_cpu_mem_usage \u001b[38;5;129;01mis\u001b[39;00m \u001b[38;5;28;01mNone\u001b[39;00m:\n",
      "\u001b[0;31mRuntimeError\u001b[0m: No GPU found. A GPU is needed for quantization."
     ]
    }
   ],
   "source": [
    "base_model = AutoModelForCausalLM.from_pretrained(\n",
    "    model_id,\n",
    "    quantization_config=bnb_config,\n",
    "    trust_remote_code=True,\n",
    "    revision=\"2f5c3cd4eace6be6c0f12981f377fb35e5bf6ee5\" # Using this version because running the new version gives error \n",
    ")"
   ]
  },
  {
   "cell_type": "code",
   "execution_count": null,
   "id": "534b007d-71cb-47a7-9b8e-86d9ef038e91",
   "metadata": {},
   "outputs": [],
   "source": []
  }
 ],
 "metadata": {
  "kernelspec": {
   "display_name": "Python 3 (ipykernel)",
   "language": "python",
   "name": "python3"
  },
  "language_info": {
   "codemirror_mode": {
    "name": "ipython",
    "version": 3
   },
   "file_extension": ".py",
   "mimetype": "text/x-python",
   "name": "python",
   "nbconvert_exporter": "python",
   "pygments_lexer": "ipython3",
   "version": "3.10.10"
  }
 },
 "nbformat": 4,
 "nbformat_minor": 5
}
