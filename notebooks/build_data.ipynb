{
 "cells": [
  {
   "cell_type": "code",
   "execution_count": 23,
   "id": "70727483",
   "metadata": {},
   "outputs": [],
   "source": [
    "STEM = {\n",
    "    \"S\": [\"Applied_sciences\", \"Category:Formal_sciences\", \"Category:Natural_sciences\"],\n",
    "    \"T\": [\"Category:Technology\"],\n",
    "    \"E\": [\"Category:Engineering_disciplines\"],\n",
    "    \"M\": [\"Category:Fields_of_mathematics\", \"Category:Subfields_of_physics\"]\n",
    "}"
   ]
  },
  {
   "cell_type": "code",
   "execution_count": null,
   "id": "cb8819bf",
   "metadata": {},
   "outputs": [],
   "source": [
    "! wget https://dumps.wikimedia.org/enwiki/latest/enwiki-latest-pages-articles.xml.bz2"
   ]
  },
  {
   "cell_type": "code",
   "execution_count": 35,
   "id": "d2f80d66",
   "metadata": {},
   "outputs": [
    {
     "ename": "KeyboardInterrupt",
     "evalue": "",
     "output_type": "error",
     "traceback": [
      "\u001b[0;31m---------------------------------------------------------------------------\u001b[0m",
      "\u001b[0;31mKeyboardInterrupt\u001b[0m                         Traceback (most recent call last)",
      "Cell \u001b[0;32mIn[35], line 7\u001b[0m\n\u001b[1;32m      4\u001b[0m response \u001b[39m=\u001b[39m requests\u001b[39m.\u001b[39mget(url, stream\u001b[39m=\u001b[39m\u001b[39mTrue\u001b[39;00m)\n\u001b[1;32m      6\u001b[0m \u001b[39mwith\u001b[39;00m \u001b[39mopen\u001b[39m(\u001b[39m\"\u001b[39m\u001b[39menwiki-latest-pages-articles.xml.bz2\u001b[39m\u001b[39m\"\u001b[39m, \u001b[39m\"\u001b[39m\u001b[39mwb\u001b[39m\u001b[39m\"\u001b[39m) \u001b[39mas\u001b[39;00m f:\n\u001b[0;32m----> 7\u001b[0m     \u001b[39mfor\u001b[39;00m chunk \u001b[39min\u001b[39;00m response\u001b[39m.\u001b[39miter_content(chunk_size\u001b[39m=\u001b[39m\u001b[39m1024\u001b[39m):\n\u001b[1;32m      8\u001b[0m         \u001b[39mif\u001b[39;00m chunk:\n\u001b[1;32m      9\u001b[0m             f\u001b[39m.\u001b[39mwrite(chunk)\n",
      "File \u001b[0;32m~/miniconda3/lib/python3.10/site-packages/requests/models.py:816\u001b[0m, in \u001b[0;36mResponse.iter_content.<locals>.generate\u001b[0;34m()\u001b[0m\n\u001b[1;32m    814\u001b[0m \u001b[39mif\u001b[39;00m \u001b[39mhasattr\u001b[39m(\u001b[39mself\u001b[39m\u001b[39m.\u001b[39mraw, \u001b[39m\"\u001b[39m\u001b[39mstream\u001b[39m\u001b[39m\"\u001b[39m):\n\u001b[1;32m    815\u001b[0m     \u001b[39mtry\u001b[39;00m:\n\u001b[0;32m--> 816\u001b[0m         \u001b[39myield from\u001b[39;00m \u001b[39mself\u001b[39m\u001b[39m.\u001b[39mraw\u001b[39m.\u001b[39mstream(chunk_size, decode_content\u001b[39m=\u001b[39m\u001b[39mTrue\u001b[39;00m)\n\u001b[1;32m    817\u001b[0m     \u001b[39mexcept\u001b[39;00m ProtocolError \u001b[39mas\u001b[39;00m e:\n\u001b[1;32m    818\u001b[0m         \u001b[39mraise\u001b[39;00m ChunkedEncodingError(e)\n",
      "File \u001b[0;32m~/miniconda3/lib/python3.10/site-packages/urllib3/response.py:628\u001b[0m, in \u001b[0;36mHTTPResponse.stream\u001b[0;34m(self, amt, decode_content)\u001b[0m\n\u001b[1;32m    626\u001b[0m \u001b[39melse\u001b[39;00m:\n\u001b[1;32m    627\u001b[0m     \u001b[39mwhile\u001b[39;00m \u001b[39mnot\u001b[39;00m is_fp_closed(\u001b[39mself\u001b[39m\u001b[39m.\u001b[39m_fp):\n\u001b[0;32m--> 628\u001b[0m         data \u001b[39m=\u001b[39m \u001b[39mself\u001b[39;49m\u001b[39m.\u001b[39;49mread(amt\u001b[39m=\u001b[39;49mamt, decode_content\u001b[39m=\u001b[39;49mdecode_content)\n\u001b[1;32m    630\u001b[0m         \u001b[39mif\u001b[39;00m data:\n\u001b[1;32m    631\u001b[0m             \u001b[39myield\u001b[39;00m data\n",
      "File \u001b[0;32m~/miniconda3/lib/python3.10/site-packages/urllib3/response.py:567\u001b[0m, in \u001b[0;36mHTTPResponse.read\u001b[0;34m(self, amt, decode_content, cache_content)\u001b[0m\n\u001b[1;32m    564\u001b[0m fp_closed \u001b[39m=\u001b[39m \u001b[39mgetattr\u001b[39m(\u001b[39mself\u001b[39m\u001b[39m.\u001b[39m_fp, \u001b[39m\"\u001b[39m\u001b[39mclosed\u001b[39m\u001b[39m\"\u001b[39m, \u001b[39mFalse\u001b[39;00m)\n\u001b[1;32m    566\u001b[0m \u001b[39mwith\u001b[39;00m \u001b[39mself\u001b[39m\u001b[39m.\u001b[39m_error_catcher():\n\u001b[0;32m--> 567\u001b[0m     data \u001b[39m=\u001b[39m \u001b[39mself\u001b[39;49m\u001b[39m.\u001b[39;49m_fp_read(amt) \u001b[39mif\u001b[39;00m \u001b[39mnot\u001b[39;00m fp_closed \u001b[39melse\u001b[39;00m \u001b[39mb\u001b[39m\u001b[39m\"\u001b[39m\u001b[39m\"\u001b[39m\n\u001b[1;32m    568\u001b[0m     \u001b[39mif\u001b[39;00m amt \u001b[39mis\u001b[39;00m \u001b[39mNone\u001b[39;00m:\n\u001b[1;32m    569\u001b[0m         flush_decoder \u001b[39m=\u001b[39m \u001b[39mTrue\u001b[39;00m\n",
      "File \u001b[0;32m~/miniconda3/lib/python3.10/site-packages/urllib3/response.py:533\u001b[0m, in \u001b[0;36mHTTPResponse._fp_read\u001b[0;34m(self, amt)\u001b[0m\n\u001b[1;32m    530\u001b[0m     \u001b[39mreturn\u001b[39;00m buffer\u001b[39m.\u001b[39mgetvalue()\n\u001b[1;32m    531\u001b[0m \u001b[39melse\u001b[39;00m:\n\u001b[1;32m    532\u001b[0m     \u001b[39m# StringIO doesn't like amt=None\u001b[39;00m\n\u001b[0;32m--> 533\u001b[0m     \u001b[39mreturn\u001b[39;00m \u001b[39mself\u001b[39;49m\u001b[39m.\u001b[39;49m_fp\u001b[39m.\u001b[39;49mread(amt) \u001b[39mif\u001b[39;00m amt \u001b[39mis\u001b[39;00m \u001b[39mnot\u001b[39;00m \u001b[39mNone\u001b[39;00m \u001b[39melse\u001b[39;00m \u001b[39mself\u001b[39m\u001b[39m.\u001b[39m_fp\u001b[39m.\u001b[39mread()\n",
      "File \u001b[0;32m~/miniconda3/lib/python3.10/http/client.py:465\u001b[0m, in \u001b[0;36mHTTPResponse.read\u001b[0;34m(self, amt)\u001b[0m\n\u001b[1;32m    462\u001b[0m \u001b[39mif\u001b[39;00m \u001b[39mself\u001b[39m\u001b[39m.\u001b[39mlength \u001b[39mis\u001b[39;00m \u001b[39mnot\u001b[39;00m \u001b[39mNone\u001b[39;00m \u001b[39mand\u001b[39;00m amt \u001b[39m>\u001b[39m \u001b[39mself\u001b[39m\u001b[39m.\u001b[39mlength:\n\u001b[1;32m    463\u001b[0m     \u001b[39m# clip the read to the \"end of response\"\u001b[39;00m\n\u001b[1;32m    464\u001b[0m     amt \u001b[39m=\u001b[39m \u001b[39mself\u001b[39m\u001b[39m.\u001b[39mlength\n\u001b[0;32m--> 465\u001b[0m s \u001b[39m=\u001b[39m \u001b[39mself\u001b[39;49m\u001b[39m.\u001b[39;49mfp\u001b[39m.\u001b[39;49mread(amt)\n\u001b[1;32m    466\u001b[0m \u001b[39mif\u001b[39;00m \u001b[39mnot\u001b[39;00m s \u001b[39mand\u001b[39;00m amt:\n\u001b[1;32m    467\u001b[0m     \u001b[39m# Ideally, we would raise IncompleteRead if the content-length\u001b[39;00m\n\u001b[1;32m    468\u001b[0m     \u001b[39m# wasn't satisfied, but it might break compatibility.\u001b[39;00m\n\u001b[1;32m    469\u001b[0m     \u001b[39mself\u001b[39m\u001b[39m.\u001b[39m_close_conn()\n",
      "File \u001b[0;32m~/miniconda3/lib/python3.10/socket.py:705\u001b[0m, in \u001b[0;36mSocketIO.readinto\u001b[0;34m(self, b)\u001b[0m\n\u001b[1;32m    703\u001b[0m \u001b[39mwhile\u001b[39;00m \u001b[39mTrue\u001b[39;00m:\n\u001b[1;32m    704\u001b[0m     \u001b[39mtry\u001b[39;00m:\n\u001b[0;32m--> 705\u001b[0m         \u001b[39mreturn\u001b[39;00m \u001b[39mself\u001b[39;49m\u001b[39m.\u001b[39;49m_sock\u001b[39m.\u001b[39;49mrecv_into(b)\n\u001b[1;32m    706\u001b[0m     \u001b[39mexcept\u001b[39;00m timeout:\n\u001b[1;32m    707\u001b[0m         \u001b[39mself\u001b[39m\u001b[39m.\u001b[39m_timeout_occurred \u001b[39m=\u001b[39m \u001b[39mTrue\u001b[39;00m\n",
      "File \u001b[0;32m~/miniconda3/lib/python3.10/ssl.py:1274\u001b[0m, in \u001b[0;36mSSLSocket.recv_into\u001b[0;34m(self, buffer, nbytes, flags)\u001b[0m\n\u001b[1;32m   1270\u001b[0m     \u001b[39mif\u001b[39;00m flags \u001b[39m!=\u001b[39m \u001b[39m0\u001b[39m:\n\u001b[1;32m   1271\u001b[0m         \u001b[39mraise\u001b[39;00m \u001b[39mValueError\u001b[39;00m(\n\u001b[1;32m   1272\u001b[0m           \u001b[39m\"\u001b[39m\u001b[39mnon-zero flags not allowed in calls to recv_into() on \u001b[39m\u001b[39m%s\u001b[39;00m\u001b[39m\"\u001b[39m \u001b[39m%\u001b[39m\n\u001b[1;32m   1273\u001b[0m           \u001b[39mself\u001b[39m\u001b[39m.\u001b[39m\u001b[39m__class__\u001b[39m)\n\u001b[0;32m-> 1274\u001b[0m     \u001b[39mreturn\u001b[39;00m \u001b[39mself\u001b[39;49m\u001b[39m.\u001b[39;49mread(nbytes, buffer)\n\u001b[1;32m   1275\u001b[0m \u001b[39melse\u001b[39;00m:\n\u001b[1;32m   1276\u001b[0m     \u001b[39mreturn\u001b[39;00m \u001b[39msuper\u001b[39m()\u001b[39m.\u001b[39mrecv_into(buffer, nbytes, flags)\n",
      "File \u001b[0;32m~/miniconda3/lib/python3.10/ssl.py:1130\u001b[0m, in \u001b[0;36mSSLSocket.read\u001b[0;34m(self, len, buffer)\u001b[0m\n\u001b[1;32m   1128\u001b[0m \u001b[39mtry\u001b[39;00m:\n\u001b[1;32m   1129\u001b[0m     \u001b[39mif\u001b[39;00m buffer \u001b[39mis\u001b[39;00m \u001b[39mnot\u001b[39;00m \u001b[39mNone\u001b[39;00m:\n\u001b[0;32m-> 1130\u001b[0m         \u001b[39mreturn\u001b[39;00m \u001b[39mself\u001b[39;49m\u001b[39m.\u001b[39;49m_sslobj\u001b[39m.\u001b[39;49mread(\u001b[39mlen\u001b[39;49m, buffer)\n\u001b[1;32m   1131\u001b[0m     \u001b[39melse\u001b[39;00m:\n\u001b[1;32m   1132\u001b[0m         \u001b[39mreturn\u001b[39;00m \u001b[39mself\u001b[39m\u001b[39m.\u001b[39m_sslobj\u001b[39m.\u001b[39mread(\u001b[39mlen\u001b[39m)\n",
      "\u001b[0;31mKeyboardInterrupt\u001b[0m: "
     ]
    }
   ],
   "source": [
    "import requests\n",
    "\n",
    "url = \"https://dumps.wikimedia.org/enwiki/latest/enwiki-latest-pages-articles.xml.bz2\"\n",
    "response = requests.get(url, stream=True)\n",
    "\n",
    "with open(\"enwiki-latest-pages-articles.xml.bz2\", \"wb\") as f:\n",
    "    for chunk in response.iter_content(chunk_size=1024):\n",
    "        if chunk:\n",
    "            f.write(chunk)\n"
   ]
  },
  {
   "cell_type": "code",
   "execution_count": 24,
   "id": "86e81248",
   "metadata": {},
   "outputs": [],
   "source": [
    "import pywikibot"
   ]
  },
  {
   "cell_type": "code",
   "execution_count": 25,
   "id": "fd8ac545",
   "metadata": {},
   "outputs": [],
   "source": [
    "site = pywikibot.Site(\"en\", \"wikipedia\")"
   ]
  },
  {
   "cell_type": "code",
   "execution_count": 27,
   "id": "74a6770a",
   "metadata": {},
   "outputs": [
    {
     "name": "stdout",
     "output_type": "stream",
     "text": [
      "S Applied_sciences\n",
      "{'size': 56, 'pages': 31, 'files': 0, 'subcats': 25}\n",
      "<generator object Category.subcategories at 0x1383c98c0>\n",
      "S Category:Formal_sciences\n",
      "{'size': 37, 'pages': 34, 'files': 0, 'subcats': 3}\n",
      "<generator object Category.subcategories at 0x1383c98c0>\n",
      "S Category:Natural_sciences\n",
      "{'size': 14, 'pages': 9, 'files': 0, 'subcats': 5}\n",
      "<generator object Category.subcategories at 0x1383c98c0>\n",
      "T Category:Technology\n",
      "{'size': 56, 'pages': 18, 'files': 0, 'subcats': 38}\n",
      "<generator object Category.subcategories at 0x1383c98c0>\n",
      "E Category:Engineering_disciplines\n",
      "{'size': 170, 'pages': 117, 'files': 0, 'subcats': 53}\n",
      "<generator object Category.subcategories at 0x1383c98c0>\n",
      "M Category:Fields_of_mathematics\n",
      "{'size': 35, 'pages': 13, 'files': 0, 'subcats': 22}\n",
      "<generator object Category.subcategories at 0x1383c98c0>\n",
      "M Category:Subfields_of_physics\n",
      "{'size': 16, 'pages': 1, 'files': 0, 'subcats': 15}\n",
      "<generator object Category.subcategories at 0x1383c98c0>\n"
     ]
    }
   ],
   "source": [
    "def get_info(category):\n",
    "    cat = pywikibot.Category(site, category)\n",
    "    sub_cats = cat.articles()\n",
    "    print(cat.categoryinfo)\n",
    "    #print(len(list(sub_cats)))\n",
    "for group, categories in STEM.items():\n",
    "    for category in categories:\n",
    "        print(group, category)\n",
    "        get_info(category)\n",
    "        print(cat.subcategories())"
   ]
  },
  {
   "cell_type": "code",
   "execution_count": 34,
   "id": "139e2b35",
   "metadata": {},
   "outputs": [
    {
     "ename": "AttributeError",
     "evalue": "'str' object has no attribute 'namespace'",
     "output_type": "error",
     "traceback": [
      "\u001b[0;31m---------------------------------------------------------------------------\u001b[0m",
      "\u001b[0;31mAttributeError\u001b[0m                            Traceback (most recent call last)",
      "Cell \u001b[0;32mIn[34], line 29\u001b[0m\n\u001b[1;32m     27\u001b[0m \u001b[39mfor\u001b[39;00m category_name \u001b[39min\u001b[39;00m categories[\u001b[39m'\u001b[39m\u001b[39mS\u001b[39m\u001b[39m'\u001b[39m]:\n\u001b[1;32m     28\u001b[0m     cat \u001b[39m=\u001b[39m pywikibot\u001b[39m.\u001b[39mCategory(site, category_name)\n\u001b[0;32m---> 29\u001b[0m     print_articles_in_category(cat)\n",
      "Cell \u001b[0;32mIn[34], line 11\u001b[0m, in \u001b[0;36mprint_articles_in_category\u001b[0;34m(cat)\u001b[0m\n\u001b[1;32m      7\u001b[0m \u001b[39mfor\u001b[39;00m page \u001b[39min\u001b[39;00m site\u001b[39m.\u001b[39mcategorymembers(cat, total\u001b[39m=\u001b[39m\u001b[39mNone\u001b[39;00m):\n\u001b[1;32m      8\u001b[0m     \u001b[39m# Check if the page is a category itself\u001b[39;00m\n\u001b[1;32m      9\u001b[0m     \u001b[39mif\u001b[39;00m \u001b[39mtype\u001b[39m(page) \u001b[39m!=\u001b[39m \u001b[39mstr\u001b[39m \u001b[39mand\u001b[39;00m page\u001b[39m.\u001b[39mnamespace() \u001b[39m==\u001b[39m pywikibot\u001b[39m.\u001b[39msite\u001b[39m.\u001b[39mNamespace\u001b[39m.\u001b[39mCATEGORY:\n\u001b[1;32m     10\u001b[0m         \u001b[39m# Recursively go into this category\u001b[39;00m\n\u001b[0;32m---> 11\u001b[0m         print_articles_in_category(page\u001b[39m.\u001b[39;49mtitle(with_ns\u001b[39m=\u001b[39;49m\u001b[39mFalse\u001b[39;49;00m))\n\u001b[1;32m     12\u001b[0m     \u001b[39melse\u001b[39;00m:\n\u001b[1;32m     13\u001b[0m         \u001b[39m# print(page.title())\u001b[39;00m\n\u001b[1;32m     14\u001b[0m         \u001b[39m# text = page.get()\u001b[39;00m\n\u001b[1;32m     15\u001b[0m         \u001b[39m# print(text[:200])  # Print the first 200 characters of each article\u001b[39;00m\n\u001b[1;32m     16\u001b[0m         \u001b[39mpass\u001b[39;00m\n",
      "Cell \u001b[0;32mIn[34], line 7\u001b[0m, in \u001b[0;36mprint_articles_in_category\u001b[0;34m(cat)\u001b[0m\n\u001b[1;32m      5\u001b[0m \u001b[39mdef\u001b[39;00m \u001b[39mprint_articles_in_category\u001b[39m(cat):\n\u001b[1;32m      6\u001b[0m     \u001b[39m# Loop through each page in the category\u001b[39;00m\n\u001b[0;32m----> 7\u001b[0m     \u001b[39mfor\u001b[39;00m page \u001b[39min\u001b[39;00m site\u001b[39m.\u001b[39;49mcategorymembers(cat, total\u001b[39m=\u001b[39;49m\u001b[39mNone\u001b[39;49;00m):\n\u001b[1;32m      8\u001b[0m         \u001b[39m# Check if the page is a category itself\u001b[39;00m\n\u001b[1;32m      9\u001b[0m         \u001b[39mif\u001b[39;00m \u001b[39mtype\u001b[39m(page) \u001b[39m!=\u001b[39m \u001b[39mstr\u001b[39m \u001b[39mand\u001b[39;00m page\u001b[39m.\u001b[39mnamespace() \u001b[39m==\u001b[39m pywikibot\u001b[39m.\u001b[39msite\u001b[39m.\u001b[39mNamespace\u001b[39m.\u001b[39mCATEGORY:\n\u001b[1;32m     10\u001b[0m             \u001b[39m# Recursively go into this category\u001b[39;00m\n\u001b[1;32m     11\u001b[0m             print_articles_in_category(page\u001b[39m.\u001b[39mtitle(with_ns\u001b[39m=\u001b[39m\u001b[39mFalse\u001b[39;00m))\n",
      "File \u001b[0;32m~/miniconda3/lib/python3.10/site-packages/pywikibot/site/_generators.py:539\u001b[0m, in \u001b[0;36mGeneratorsMixin.categorymembers\u001b[0;34m(self, category, namespaces, sortby, reverse, starttime, endtime, total, startprefix, endprefix, content, member_type)\u001b[0m\n\u001b[1;32m    476\u001b[0m \u001b[39mdef\u001b[39;00m \u001b[39mcategorymembers\u001b[39m(\n\u001b[1;32m    477\u001b[0m     \u001b[39mself\u001b[39m,\n\u001b[1;32m    478\u001b[0m     category: \u001b[39m'\u001b[39m\u001b[39mpywikibot.Category\u001b[39m\u001b[39m'\u001b[39m, \u001b[39m*\u001b[39m,\n\u001b[0;32m   (...)\u001b[0m\n\u001b[1;32m    488\u001b[0m     member_type: Union[\u001b[39mstr\u001b[39m, Iterable[\u001b[39mstr\u001b[39m], \u001b[39mNone\u001b[39;00m] \u001b[39m=\u001b[39m \u001b[39mNone\u001b[39;00m\n\u001b[1;32m    489\u001b[0m ) \u001b[39m-\u001b[39m\u001b[39m>\u001b[39m Iterable[\u001b[39m'\u001b[39m\u001b[39mpywikibot.Page\u001b[39m\u001b[39m'\u001b[39m]:\n\u001b[1;32m    490\u001b[0m \u001b[39m    \u001b[39m\u001b[39m\"\"\"Iterate members of specified category.\u001b[39;00m\n\u001b[1;32m    491\u001b[0m \n\u001b[1;32m    492\u001b[0m \u001b[39m    You should not use this method directly; instead use one of the\u001b[39;00m\n\u001b[0;32m   (...)\u001b[0m\n\u001b[1;32m    537\u001b[0m \u001b[39m    :raises ValueError: invalid values given\u001b[39;00m\n\u001b[1;32m    538\u001b[0m \u001b[39m    \"\"\"\u001b[39;00m\n\u001b[0;32m--> 539\u001b[0m     \u001b[39mif\u001b[39;00m category\u001b[39m.\u001b[39;49mnamespace() \u001b[39m!=\u001b[39m \u001b[39m14\u001b[39m:\n\u001b[1;32m    540\u001b[0m         \u001b[39mraise\u001b[39;00m \u001b[39mTypeError\u001b[39;00m(\n\u001b[1;32m    541\u001b[0m             \u001b[39mf\u001b[39m\u001b[39m'\u001b[39m\u001b[39mcategorymembers: non-Category page \u001b[39m\u001b[39m{\u001b[39;00mcategory\u001b[39m!r}\u001b[39;00m\u001b[39m specified\u001b[39m\u001b[39m'\u001b[39m)\n\u001b[1;32m    543\u001b[0m     cmtitle \u001b[39m=\u001b[39m category\u001b[39m.\u001b[39mtitle(with_section\u001b[39m=\u001b[39m\u001b[39mFalse\u001b[39;00m)\u001b[39m.\u001b[39mencode(\u001b[39mself\u001b[39m\u001b[39m.\u001b[39mencoding())\n",
      "\u001b[0;31mAttributeError\u001b[0m: 'str' object has no attribute 'namespace'"
     ]
    }
   ],
   "source": [
    "import pywikibot\n",
    "\n",
    "site = pywikibot.Site(\"en\", \"wikipedia\")\n",
    "\n",
    "def print_articles_in_category(cat):\n",
    "    # Loop through each page in the category\n",
    "    for page in site.categorymembers(cat, total=None):\n",
    "        # Check if the page is a category itself\n",
    "        if type(page) != str and page.namespace() == pywikibot.site.Namespace.CATEGORY:\n",
    "            # Recursively go into this category\n",
    "            print_articles_in_category(page.title(with_ns=False))\n",
    "        else:\n",
    "            # print(page.title())\n",
    "            # text = page.get()\n",
    "            # print(text[:200])  # Print the first 200 characters of each article\n",
    "            pass\n",
    "\n",
    "\n",
    "categories = {\n",
    "    \"S\": [\"Applied_sciences\", \"Category:Formal_sciences\", \"Category:Natural_sciences\"],\n",
    "    \"T\": [\"Category:Technology\"],\n",
    "    \"E\": [\"Category:Engineering_disciplines\"],\n",
    "    \"M\": [\"Category:Fields_of_mathematics\", \"Category:Subfields_of_physics\"]\n",
    "}\n",
    "\n",
    "# Loop through each category in the \"S\" (Science) section of your STEM categories\n",
    "for category_name in categories['S']:\n",
    "    cat = pywikibot.Category(site, category_name)\n",
    "    print_articles_in_category(cat)\n"
   ]
  },
  {
   "cell_type": "code",
   "execution_count": null,
   "id": "44223f6c",
   "metadata": {},
   "outputs": [],
   "source": []
  }
 ],
 "metadata": {
  "kernelspec": {
   "display_name": "Python 3 (ipykernel)",
   "language": "python",
   "name": "python3"
  },
  "language_info": {
   "codemirror_mode": {
    "name": "ipython",
    "version": 3
   },
   "file_extension": ".py",
   "mimetype": "text/x-python",
   "name": "python",
   "nbconvert_exporter": "python",
   "pygments_lexer": "ipython3",
   "version": "3.10.10"
  }
 },
 "nbformat": 4,
 "nbformat_minor": 5
}
