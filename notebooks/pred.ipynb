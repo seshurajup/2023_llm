{
 "cells": [
  {
   "cell_type": "code",
   "execution_count": 1,
   "id": "0d12d271-e245-42a0-97f7-003119304861",
   "metadata": {
    "execution": {
     "iopub.execute_input": "2023-07-15T13:46:15.364978Z",
     "iopub.status.busy": "2023-07-15T13:46:15.363877Z",
     "iopub.status.idle": "2023-07-15T13:46:19.355341Z",
     "shell.execute_reply": "2023-07-15T13:46:19.355045Z",
     "shell.execute_reply.started": "2023-07-15T13:46:15.364910Z"
    },
    "tags": []
   },
   "outputs": [
    {
     "name": "stdout",
     "output_type": "stream",
     "text": [
      "'NoneType' object has no attribute 'cadam32bit_grad_fp32'\n"
     ]
    }
   ],
   "source": [
    "import pandas as pd\n",
    "from string import Template\n",
    "from pathlib import Path\n",
    "\n",
    "import os\n",
    "\n",
    "import warnings\n",
    "warnings.simplefilter(\"ignore\")\n",
    "\n",
    "import torch\n",
    "from transformers import pipeline, AutoTokenizer\n",
    "\n",
    "from tqdm.notebook import tqdm\n",
    "\n",
    "data_path = Path('../input/kaggle-llm-science-exam')"
   ]
  },
  {
   "cell_type": "code",
   "execution_count": 7,
   "id": "7b164a90-2c06-4bf3-9da8-0736808f96ab",
   "metadata": {
    "execution": {
     "iopub.execute_input": "2023-07-15T14:26:53.749568Z",
     "iopub.status.busy": "2023-07-15T14:26:53.748670Z",
     "iopub.status.idle": "2023-07-15T14:27:25.142384Z",
     "shell.execute_reply": "2023-07-15T14:27:25.142004Z",
     "shell.execute_reply.started": "2023-07-15T14:26:53.749503Z"
    },
    "tags": []
   },
   "outputs": [
    {
     "data": {
      "application/vnd.jupyter.widget-view+json": {
       "model_id": "2c2bb34b0d6f4341954adde566286bc4",
       "version_major": 2,
       "version_minor": 0
      },
      "text/plain": [
       "Loading checkpoint shards:   0%|          | 0/2 [00:00<?, ?it/s]"
      ]
     },
     "metadata": {},
     "output_type": "display_data"
    }
   ],
   "source": [
    "from transformers import AutoModelForCausalLM, AutoTokenizer\n",
    "\n",
    "llm_backbone = 'tiiuae/falcon-7b'\n",
    "\n",
    "tokenizer = AutoTokenizer.from_pretrained(\n",
    "    llm_backbone,\n",
    "    use_fast=False,\n",
    "    trust_remote_code=True,\n",
    "    padding_side=\"left\"\n",
    ")\n",
    "tokenizer.pad_token = tokenizer.eos_token\n",
    "\n",
    "model = AutoModelForCausalLM.from_pretrained(\n",
    "    llm_backbone,\n",
    "    torch_dtype=torch.float16,\n",
    "    #load_in_4bit=True,\n",
    "    device_map=\"mps\",\n",
    "    trust_remote_code=True,\n",
    ")"
   ]
  },
  {
   "cell_type": "code",
   "execution_count": 8,
   "id": "830ead61-9c9a-42b9-a820-4f9d07aef3b8",
   "metadata": {
    "execution": {
     "iopub.execute_input": "2023-07-15T14:27:27.571395Z",
     "iopub.status.busy": "2023-07-15T14:27:27.570924Z",
     "iopub.status.idle": "2023-07-15T14:27:27.610463Z",
     "shell.execute_reply": "2023-07-15T14:27:27.610093Z",
     "shell.execute_reply.started": "2023-07-15T14:27:27.571364Z"
    },
    "tags": []
   },
   "outputs": [
    {
     "data": {
      "text/html": [
       "<div>\n",
       "<style scoped>\n",
       "    .dataframe tbody tr th:only-of-type {\n",
       "        vertical-align: middle;\n",
       "    }\n",
       "\n",
       "    .dataframe tbody tr th {\n",
       "        vertical-align: top;\n",
       "    }\n",
       "\n",
       "    .dataframe thead th {\n",
       "        text-align: right;\n",
       "    }\n",
       "</style>\n",
       "<table border=\"1\" class=\"dataframe\">\n",
       "  <thead>\n",
       "    <tr style=\"text-align: right;\">\n",
       "      <th></th>\n",
       "      <th>prompt</th>\n",
       "      <th>A</th>\n",
       "      <th>B</th>\n",
       "      <th>C</th>\n",
       "      <th>D</th>\n",
       "      <th>E</th>\n",
       "      <th>answer</th>\n",
       "    </tr>\n",
       "    <tr>\n",
       "      <th>id</th>\n",
       "      <th></th>\n",
       "      <th></th>\n",
       "      <th></th>\n",
       "      <th></th>\n",
       "      <th></th>\n",
       "      <th></th>\n",
       "      <th></th>\n",
       "    </tr>\n",
       "  </thead>\n",
       "  <tbody>\n",
       "    <tr>\n",
       "      <th>0</th>\n",
       "      <td>Which of the following statements accurately d...</td>\n",
       "      <td>MOND is a theory that reduces the observed mis...</td>\n",
       "      <td>MOND is a theory that increases the discrepanc...</td>\n",
       "      <td>MOND is a theory that explains the missing bar...</td>\n",
       "      <td>MOND is a theory that reduces the discrepancy ...</td>\n",
       "      <td>MOND is a theory that eliminates the observed ...</td>\n",
       "      <td>D</td>\n",
       "    </tr>\n",
       "    <tr>\n",
       "      <th>1</th>\n",
       "      <td>Which of the following is an accurate definiti...</td>\n",
       "      <td>Dynamic scaling refers to the evolution of sel...</td>\n",
       "      <td>Dynamic scaling refers to the non-evolution of...</td>\n",
       "      <td>Dynamic scaling refers to the evolution of sel...</td>\n",
       "      <td>Dynamic scaling refers to the non-evolution of...</td>\n",
       "      <td>Dynamic scaling refers to the evolution of sel...</td>\n",
       "      <td>A</td>\n",
       "    </tr>\n",
       "    <tr>\n",
       "      <th>2</th>\n",
       "      <td>Which of the following statements accurately d...</td>\n",
       "      <td>The triskeles symbol was reconstructed as a fe...</td>\n",
       "      <td>The triskeles symbol is a representation of th...</td>\n",
       "      <td>The triskeles symbol is a representation of a ...</td>\n",
       "      <td>The triskeles symbol represents three interloc...</td>\n",
       "      <td>The triskeles symbol is a representation of th...</td>\n",
       "      <td>A</td>\n",
       "    </tr>\n",
       "    <tr>\n",
       "      <th>3</th>\n",
       "      <td>What is the significance of regularization in ...</td>\n",
       "      <td>Regularizing the mass-energy of an electron wi...</td>\n",
       "      <td>Regularizing the mass-energy of an electron wi...</td>\n",
       "      <td>Regularizing the mass-energy of an electron wi...</td>\n",
       "      <td>Regularizing the mass-energy of an electron wi...</td>\n",
       "      <td>Regularizing the mass-energy of an electron wi...</td>\n",
       "      <td>C</td>\n",
       "    </tr>\n",
       "    <tr>\n",
       "      <th>4</th>\n",
       "      <td>Which of the following statements accurately d...</td>\n",
       "      <td>The angular spacing of features in the diffrac...</td>\n",
       "      <td>The angular spacing of features in the diffrac...</td>\n",
       "      <td>The angular spacing of features in the diffrac...</td>\n",
       "      <td>The angular spacing of features in the diffrac...</td>\n",
       "      <td>The angular spacing of features in the diffrac...</td>\n",
       "      <td>D</td>\n",
       "    </tr>\n",
       "  </tbody>\n",
       "</table>\n",
       "</div>"
      ],
      "text/plain": [
       "                                               prompt  \\\n",
       "id                                                      \n",
       "0   Which of the following statements accurately d...   \n",
       "1   Which of the following is an accurate definiti...   \n",
       "2   Which of the following statements accurately d...   \n",
       "3   What is the significance of regularization in ...   \n",
       "4   Which of the following statements accurately d...   \n",
       "\n",
       "                                                    A  \\\n",
       "id                                                      \n",
       "0   MOND is a theory that reduces the observed mis...   \n",
       "1   Dynamic scaling refers to the evolution of sel...   \n",
       "2   The triskeles symbol was reconstructed as a fe...   \n",
       "3   Regularizing the mass-energy of an electron wi...   \n",
       "4   The angular spacing of features in the diffrac...   \n",
       "\n",
       "                                                    B  \\\n",
       "id                                                      \n",
       "0   MOND is a theory that increases the discrepanc...   \n",
       "1   Dynamic scaling refers to the non-evolution of...   \n",
       "2   The triskeles symbol is a representation of th...   \n",
       "3   Regularizing the mass-energy of an electron wi...   \n",
       "4   The angular spacing of features in the diffrac...   \n",
       "\n",
       "                                                    C  \\\n",
       "id                                                      \n",
       "0   MOND is a theory that explains the missing bar...   \n",
       "1   Dynamic scaling refers to the evolution of sel...   \n",
       "2   The triskeles symbol is a representation of a ...   \n",
       "3   Regularizing the mass-energy of an electron wi...   \n",
       "4   The angular spacing of features in the diffrac...   \n",
       "\n",
       "                                                    D  \\\n",
       "id                                                      \n",
       "0   MOND is a theory that reduces the discrepancy ...   \n",
       "1   Dynamic scaling refers to the non-evolution of...   \n",
       "2   The triskeles symbol represents three interloc...   \n",
       "3   Regularizing the mass-energy of an electron wi...   \n",
       "4   The angular spacing of features in the diffrac...   \n",
       "\n",
       "                                                    E answer  \n",
       "id                                                            \n",
       "0   MOND is a theory that eliminates the observed ...      D  \n",
       "1   Dynamic scaling refers to the evolution of sel...      A  \n",
       "2   The triskeles symbol is a representation of th...      A  \n",
       "3   Regularizing the mass-energy of an electron wi...      C  \n",
       "4   The angular spacing of features in the diffrac...      D  "
      ]
     },
     "execution_count": 8,
     "metadata": {},
     "output_type": "execute_result"
    }
   ],
   "source": [
    "if os.getenv('KAGGLE_IS_COMPETITION_RERUN'):\n",
    "    test = pd.read_csv(data_path / 'test.csv', index_col='id')\n",
    "    test[\"answer\"] = \"A\"\n",
    "else:\n",
    "    test = pd.read_csv(data_path / 'train.csv', index_col='id')\n",
    "test.head()"
   ]
  },
  {
   "cell_type": "code",
   "execution_count": 9,
   "id": "0f25248b-1c70-4b3e-bafe-e13303c67460",
   "metadata": {
    "execution": {
     "iopub.execute_input": "2023-07-15T14:27:28.621762Z",
     "iopub.status.busy": "2023-07-15T14:27:28.621414Z",
     "iopub.status.idle": "2023-07-15T14:27:28.631772Z",
     "shell.execute_reply": "2023-07-15T14:27:28.630724Z",
     "shell.execute_reply.started": "2023-07-15T14:27:28.621740Z"
    },
    "tags": []
   },
   "outputs": [],
   "source": [
    "from torch import nn\n",
    "class Perplexity(nn.Module):\n",
    "    def __init__(self, reduce: bool = True):\n",
    "        super().__init__()\n",
    "        self.loss_fn = nn.CrossEntropyLoss()\n",
    "        self.reduce = reduce\n",
    "\n",
    "    def forward(self, logits, labels):\n",
    "        shift_logits = logits[..., :-1, :].contiguous()\n",
    "        shift_labels = labels[..., 1:].contiguous()\n",
    "\n",
    "        perplexity = []\n",
    "        for i in range(labels.shape[0]):\n",
    "            perplexity.append(self.loss_fn(shift_logits[i], shift_labels[i]))\n",
    "        perplexity = torch.stack(perplexity, dim=0)\n",
    "        #perplexity = torch.exp(perplexity)\n",
    "        if self.reduce:\n",
    "            perplexity = torch.mean(perplexity)\n",
    "        return perplexity \n",
    "    \n",
    "perp = Perplexity()"
   ]
  },
  {
   "cell_type": "code",
   "execution_count": null,
   "id": "545e068c-b18c-4db3-b11f-dd1bccddb591",
   "metadata": {
    "execution": {
     "iopub.execute_input": "2023-07-15T14:28:17.250985Z",
     "iopub.status.busy": "2023-07-15T14:28:17.250208Z"
    },
    "tags": []
   },
   "outputs": [
    {
     "data": {
      "application/vnd.jupyter.widget-view+json": {
       "model_id": "ea2b6f81dffe4198b96cca8303936783",
       "version_major": 2,
       "version_minor": 0
      },
      "text/plain": [
       "  0%|          | 0/200 [00:00<?, ?it/s]"
      ]
     },
     "metadata": {},
     "output_type": "display_data"
    }
   ],
   "source": [
    "import numpy as np\n",
    "def precision_at_k(r, k):\n",
    "    \"\"\"Precision at k\"\"\"\n",
    "    assert k <= len(r)\n",
    "    assert k != 0\n",
    "    return sum(int(x) for x in r[:k]) / k\n",
    "\n",
    "def MAP_at_3(predictions, true_items):\n",
    "    \"\"\"Score is mean average precision at 3\"\"\"\n",
    "    U = len(predictions)\n",
    "    map_at_3 = 0.0\n",
    "    for u in range(U):\n",
    "        user_preds = predictions[u]\n",
    "        user_true = true_items[u]\n",
    "        user_results = [1 if item == user_true else 0 for item in user_preds]\n",
    "        for k in range(min(len(user_preds), 3)):\n",
    "            map_at_3 += precision_at_k(user_results, k+1) * user_results[k]\n",
    "    return map_at_3 / U\n",
    "\n",
    "maps = []\n",
    "preds = []\n",
    "for idx, row in tqdm(test.iterrows(), total=len(test)):\n",
    "        \n",
    "    \n",
    "    with torch.no_grad():\n",
    "        cols = [\"A\", \"B\", \"C\", \"D\", \"E\"]\n",
    "        perps = []\n",
    "        samples = []\n",
    "        for col in cols:\n",
    "            samples.append(\"<|prompt|>\"+row[\"prompt\"]+\"</s><|answer|>\"+row[col])\n",
    "        inputs = tokenizer(samples, return_tensors=\"pt\", add_special_tokens=False, padding=True, truncation=True).to(\"mps\")\n",
    "\n",
    "        output = model(input_ids=inputs[\"input_ids\"], attention_mask=inputs[\"attention_mask\"])\n",
    "        output = output.logits\n",
    "        labels = inputs[\"input_ids\"]\n",
    "        labels.masked_fill_(~inputs[\"attention_mask\"].bool(), -100)\n",
    "        for j in range(len(cols)):\n",
    "            p = perp(output[j].unsqueeze(0), labels[j].unsqueeze(0))\n",
    "            perps.append(p.detach().cpu())\n",
    "            \n",
    "        del inputs\n",
    "        del labels\n",
    "        del output\n",
    "        del p\n",
    "\n",
    "    perps = np.array(perps)\n",
    "        \n",
    "    predictions = [np.array(cols)[np.argsort(perps)]]\n",
    "    preds.append(predictions)\n",
    "    tp = [row.answer]\n",
    "    map = MAP_at_3(predictions, tp)\n",
    "    maps.append(map)\n",
    "    print(np.mean(maps))"
   ]
  },
  {
   "cell_type": "code",
   "execution_count": null,
   "id": "d831d6fb-8ba3-45a5-b847-d5fe11c5be02",
   "metadata": {},
   "outputs": [],
   "source": []
  }
 ],
 "metadata": {
  "kernelspec": {
   "display_name": "Python 3 (ipykernel)",
   "language": "python",
   "name": "python3"
  },
  "language_info": {
   "codemirror_mode": {
    "name": "ipython",
    "version": 3
   },
   "file_extension": ".py",
   "mimetype": "text/x-python",
   "name": "python",
   "nbconvert_exporter": "python",
   "pygments_lexer": "ipython3",
   "version": "3.10.10"
  }
 },
 "nbformat": 4,
 "nbformat_minor": 5
}
